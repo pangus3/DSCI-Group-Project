{
 "cells": [
  {
   "cell_type": "markdown",
   "id": "88968abe-bffa-459f-b8fb-bda42d5da8b6",
   "metadata": {},
   "source": [
    "Media outlets are consistently on the lookout for new and upcoming players, regardless of sport. Young talent, valiant comebacks, rise after injury or any combination of the latter generate consistent media coverage, followed by support for that player and love for the sport. For instance, Serena Williams has grown both fame and worldwide support through her distinguished and transformative career as a tennis icon. She has changed the game through her triumphs and unprecedented adversities. Throughout her career, she has won thousands of dollars in prizes and has been breaking tennis records for decades. In our project, we will be analysing statistics from current tennis players, including their prize sums and the number of seasons they have been playing. We will be creating a classification model to predict a player's global ranking based on how many seasons they’ve played and their total prize money. This in turn will help officials classify a player who is new to the league in comparison to the veterans. The dataset that we have obtained was retrieved from “canvas” and consists of several columns, however our focus will be placed upon “Prize Money” and ”Seasons” to predict current rank. "
   ]
  },
  {
   "cell_type": "markdown",
   "id": "30ce29ca-16b9-419f-96b3-8054b3511cfe",
   "metadata": {},
   "source": [
    "Firstly, we are reading the necessary packages for our plots and functions for our regression model. These include ggplot2 and tidyverse. "
   ]
  },
  {
   "cell_type": "code",
   "execution_count": 1,
   "id": "02d80821-5abc-4ae7-83d1-c50d5d25f980",
   "metadata": {},
   "outputs": [
    {
     "name": "stderr",
     "output_type": "stream",
     "text": [
      "── \u001b[1mAttaching packages\u001b[22m ─────────────────────────────────────── tidyverse 1.3.1 ──\n",
      "\n",
      "\u001b[32m✔\u001b[39m \u001b[34mggplot2\u001b[39m 3.3.6     \u001b[32m✔\u001b[39m \u001b[34mpurrr  \u001b[39m 0.3.4\n",
      "\u001b[32m✔\u001b[39m \u001b[34mtibble \u001b[39m 3.1.7     \u001b[32m✔\u001b[39m \u001b[34mdplyr  \u001b[39m 1.0.9\n",
      "\u001b[32m✔\u001b[39m \u001b[34mtidyr  \u001b[39m 1.2.0     \u001b[32m✔\u001b[39m \u001b[34mstringr\u001b[39m 1.4.0\n",
      "\u001b[32m✔\u001b[39m \u001b[34mreadr  \u001b[39m 2.1.2     \u001b[32m✔\u001b[39m \u001b[34mforcats\u001b[39m 0.5.1\n",
      "\n",
      "── \u001b[1mConflicts\u001b[22m ────────────────────────────────────────── tidyverse_conflicts() ──\n",
      "\u001b[31m✖\u001b[39m \u001b[34mdplyr\u001b[39m::\u001b[32mfilter()\u001b[39m masks \u001b[34mstats\u001b[39m::filter()\n",
      "\u001b[31m✖\u001b[39m \u001b[34mdplyr\u001b[39m::\u001b[32mlag()\u001b[39m    masks \u001b[34mstats\u001b[39m::lag()\n",
      "\n",
      "── \u001b[1mAttaching packages\u001b[22m ────────────────────────────────────── tidymodels 1.0.0 ──\n",
      "\n",
      "\u001b[32m✔\u001b[39m \u001b[34mbroom       \u001b[39m 1.0.0     \u001b[32m✔\u001b[39m \u001b[34mrsample     \u001b[39m 1.0.0\n",
      "\u001b[32m✔\u001b[39m \u001b[34mdials       \u001b[39m 1.0.0     \u001b[32m✔\u001b[39m \u001b[34mtune        \u001b[39m 1.0.0\n",
      "\u001b[32m✔\u001b[39m \u001b[34minfer       \u001b[39m 1.0.2     \u001b[32m✔\u001b[39m \u001b[34mworkflows   \u001b[39m 1.0.0\n",
      "\u001b[32m✔\u001b[39m \u001b[34mmodeldata   \u001b[39m 1.0.0     \u001b[32m✔\u001b[39m \u001b[34mworkflowsets\u001b[39m 1.0.0\n",
      "\u001b[32m✔\u001b[39m \u001b[34mparsnip     \u001b[39m 1.0.0     \u001b[32m✔\u001b[39m \u001b[34myardstick   \u001b[39m 1.0.0\n",
      "\u001b[32m✔\u001b[39m \u001b[34mrecipes     \u001b[39m 1.0.1     \n",
      "\n",
      "── \u001b[1mConflicts\u001b[22m ───────────────────────────────────────── tidymodels_conflicts() ──\n",
      "\u001b[31m✖\u001b[39m \u001b[34mscales\u001b[39m::\u001b[32mdiscard()\u001b[39m masks \u001b[34mpurrr\u001b[39m::discard()\n",
      "\u001b[31m✖\u001b[39m \u001b[34mdplyr\u001b[39m::\u001b[32mfilter()\u001b[39m   masks \u001b[34mstats\u001b[39m::filter()\n",
      "\u001b[31m✖\u001b[39m \u001b[34mrecipes\u001b[39m::\u001b[32mfixed()\u001b[39m  masks \u001b[34mstringr\u001b[39m::fixed()\n",
      "\u001b[31m✖\u001b[39m \u001b[34mdplyr\u001b[39m::\u001b[32mlag()\u001b[39m      masks \u001b[34mstats\u001b[39m::lag()\n",
      "\u001b[31m✖\u001b[39m \u001b[34myardstick\u001b[39m::\u001b[32mspec()\u001b[39m masks \u001b[34mreadr\u001b[39m::spec()\n",
      "\u001b[31m✖\u001b[39m \u001b[34mrecipes\u001b[39m::\u001b[32mstep()\u001b[39m   masks \u001b[34mstats\u001b[39m::step()\n",
      "\u001b[34m•\u001b[39m Use suppressPackageStartupMessages() to eliminate package startup messages\n",
      "\n",
      "Registered S3 method overwritten by 'GGally':\n",
      "  method from   \n",
      "  +.gg   ggplot2\n",
      "\n"
     ]
    }
   ],
   "source": [
    "library(tidyverse)\n",
    "library(repr)\n",
    "library(tidymodels)\n",
    "library(GGally)\n",
    "library(ISLR)\n",
    "options(repr.matrix.max.rows = 6)"
   ]
  },
  {
   "cell_type": "markdown",
   "id": "90071dd8-ba7a-420f-9320-386e6b6c9333",
   "metadata": {},
   "source": [
    "To read our data, we have tidyed most of it outside of Jupyter as this was more efficient. We have titled our raw data \"player_data_initial\". Below, we had to ensure that the column names were representative of the information, so those were renamed accoridngly. We have subsequently filtered for the players current rank. total seasons, and prize money. \n",
    "\n",
    "After the filter, we have placed 75% of our data into training and 25% to testing, with the predictor being \"current rank\""
   ]
  },
  {
   "cell_type": "code",
   "execution_count": 2,
   "id": "7e7084a0-6812-468c-a100-133a05574e86",
   "metadata": {},
   "outputs": [
    {
     "name": "stderr",
     "output_type": "stream",
     "text": [
      "\u001b[1m\u001b[22mNew names:\n",
      "\u001b[36m•\u001b[39m `` -> `...1`\n",
      "\u001b[1mRows: \u001b[22m\u001b[34m500\u001b[39m \u001b[1mColumns: \u001b[22m\u001b[34m38\u001b[39m\n",
      "\u001b[36m──\u001b[39m \u001b[1mColumn specification\u001b[22m \u001b[36m────────────────────────────────────────────────────────\u001b[39m\n",
      "\u001b[1mDelimiter:\u001b[22m \",\"\n",
      "\u001b[31mchr\u001b[39m (25): Age, Country, Plays, Wikipedia, Current Rank, Best Rank, Name, Bac...\n",
      "\u001b[32mdbl\u001b[39m (13): ...1, Turned Pro, Seasons, Titles, Best Season, Retired, Masters, ...\n",
      "\n",
      "\u001b[36mℹ\u001b[39m Use `spec()` to retrieve the full column specification for this data.\n",
      "\u001b[36mℹ\u001b[39m Specify the column types or set `show_col_types = FALSE` to quiet this message.\n"
     ]
    },
    {
     "data": {
      "text/html": [
       "<table class=\"dataframe\">\n",
       "<caption>A spec_tbl_df: 500 × 38</caption>\n",
       "<thead>\n",
       "\t<tr><th scope=col>...1</th><th scope=col>Age</th><th scope=col>Country</th><th scope=col>Plays</th><th scope=col>Wikipedia</th><th scope=col>Current Rank</th><th scope=col>Best Rank</th><th scope=col>Name</th><th scope=col>Backhand</th><th scope=col>Prize Money</th><th scope=col>⋯</th><th scope=col>Facebook</th><th scope=col>Twitter</th><th scope=col>Nicknames</th><th scope=col>Grand Slams</th><th scope=col>Davis Cups</th><th scope=col>Web Site</th><th scope=col>Team Cups</th><th scope=col>Olympics</th><th scope=col>Weeks at No. 1</th><th scope=col>Tour Finals</th></tr>\n",
       "\t<tr><th scope=col>&lt;dbl&gt;</th><th scope=col>&lt;chr&gt;</th><th scope=col>&lt;chr&gt;</th><th scope=col>&lt;chr&gt;</th><th scope=col>&lt;chr&gt;</th><th scope=col>&lt;chr&gt;</th><th scope=col>&lt;chr&gt;</th><th scope=col>&lt;chr&gt;</th><th scope=col>&lt;chr&gt;</th><th scope=col>&lt;chr&gt;</th><th scope=col>⋯</th><th scope=col>&lt;chr&gt;</th><th scope=col>&lt;chr&gt;</th><th scope=col>&lt;chr&gt;</th><th scope=col>&lt;dbl&gt;</th><th scope=col>&lt;dbl&gt;</th><th scope=col>&lt;chr&gt;</th><th scope=col>&lt;dbl&gt;</th><th scope=col>&lt;dbl&gt;</th><th scope=col>&lt;dbl&gt;</th><th scope=col>&lt;dbl&gt;</th></tr>\n",
       "</thead>\n",
       "<tbody>\n",
       "\t<tr><td>0</td><td>26 (25-04-1993)</td><td>Brazil        </td><td>Right-handed</td><td>Wikipedia</td><td>378</td><td>363 (04-11-2019)</td><td>Oscar Jose Gutierrez</td><td>NA        </td><td>NA        </td><td>⋯</td><td>NA</td><td>NA</td><td>NA</td><td>NA</td><td>NA</td><td>NA</td><td>NA</td><td>NA</td><td>NA</td><td>NA</td></tr>\n",
       "\t<tr><td>1</td><td>18 (22-12-2001)</td><td>United Kingdom</td><td>Left-handed </td><td>Wikipedia</td><td>326</td><td>316 (14-10-2019)</td><td>Jack Draper         </td><td>Two-handed</td><td>59040.00  </td><td>⋯</td><td>NA</td><td>NA</td><td>NA</td><td>NA</td><td>NA</td><td>NA</td><td>NA</td><td>NA</td><td>NA</td><td>NA</td></tr>\n",
       "\t<tr><td>2</td><td>32 (03-11-1987)</td><td>Slovakia      </td><td>Right-handed</td><td>Wikipedia</td><td>178</td><td>44 (14-01-2013) </td><td>Lukas Lacko         </td><td>Two-handed</td><td>3261567.00</td><td>⋯</td><td>NA</td><td>NA</td><td>NA</td><td>NA</td><td>NA</td><td>NA</td><td>NA</td><td>NA</td><td>NA</td><td>NA</td></tr>\n",
       "\t<tr><td>⋮</td><td>⋮</td><td>⋮</td><td>⋮</td><td>⋮</td><td>⋮</td><td>⋮</td><td>⋮</td><td>⋮</td><td>⋮</td><td>⋱</td><td>⋮</td><td>⋮</td><td>⋮</td><td>⋮</td><td>⋮</td><td>⋮</td><td>⋮</td><td>⋮</td><td>⋮</td><td>⋮</td></tr>\n",
       "\t<tr><td>497</td><td>23 (14-03-1996)</td><td>Netherlands</td><td>Left-handed</td><td>Wikipedia</td><td>495</td><td>342 (05-08-2019)</td><td>Gijs Brouwer   </td><td>NA        </td><td>NA      </td><td>⋯</td><td>NA</td><td>NA</td><td>NA</td><td>NA</td><td>NA</td><td>NA</td><td>NA</td><td>NA</td><td>NA</td><td>NA</td></tr>\n",
       "\t<tr><td>498</td><td>24 (17-05-1995)</td><td>Ukraine    </td><td>NA         </td><td>Wikipedia</td><td>419</td><td>419 (20-01-2020)</td><td>Vladyslav Orlov</td><td>NA        </td><td>NA      </td><td>⋯</td><td>NA</td><td>NA</td><td>NA</td><td>NA</td><td>NA</td><td>NA</td><td>NA</td><td>NA</td><td>NA</td><td>NA</td></tr>\n",
       "\t<tr><td>499</td><td>22 (26-03-1997)</td><td>Tunisia    </td><td>Left-handed</td><td>Wikipedia</td><td>451</td><td>408 (24-12-2018)</td><td>Aziz Dougaz    </td><td>Two-handed</td><td>61984.00</td><td>⋯</td><td>NA</td><td>NA</td><td>NA</td><td>NA</td><td>NA</td><td>NA</td><td>NA</td><td>NA</td><td>NA</td><td>NA</td></tr>\n",
       "</tbody>\n",
       "</table>\n"
      ],
      "text/latex": [
       "A spec\\_tbl\\_df: 500 × 38\n",
       "\\begin{tabular}{lllllllllllllllllllll}\n",
       " ...1 & Age & Country & Plays & Wikipedia & Current Rank & Best Rank & Name & Backhand & Prize Money & ⋯ & Facebook & Twitter & Nicknames & Grand Slams & Davis Cups & Web Site & Team Cups & Olympics & Weeks at No. 1 & Tour Finals\\\\\n",
       " <dbl> & <chr> & <chr> & <chr> & <chr> & <chr> & <chr> & <chr> & <chr> & <chr> & ⋯ & <chr> & <chr> & <chr> & <dbl> & <dbl> & <chr> & <dbl> & <dbl> & <dbl> & <dbl>\\\\\n",
       "\\hline\n",
       "\t 0 & 26 (25-04-1993) & Brazil         & Right-handed & Wikipedia & 378 & 363 (04-11-2019) & Oscar Jose Gutierrez & NA         & NA         & ⋯ & NA & NA & NA & NA & NA & NA & NA & NA & NA & NA\\\\\n",
       "\t 1 & 18 (22-12-2001) & United Kingdom & Left-handed  & Wikipedia & 326 & 316 (14-10-2019) & Jack Draper          & Two-handed & 59040.00   & ⋯ & NA & NA & NA & NA & NA & NA & NA & NA & NA & NA\\\\\n",
       "\t 2 & 32 (03-11-1987) & Slovakia       & Right-handed & Wikipedia & 178 & 44 (14-01-2013)  & Lukas Lacko          & Two-handed & 3261567.00 & ⋯ & NA & NA & NA & NA & NA & NA & NA & NA & NA & NA\\\\\n",
       "\t ⋮ & ⋮ & ⋮ & ⋮ & ⋮ & ⋮ & ⋮ & ⋮ & ⋮ & ⋮ & ⋱ & ⋮ & ⋮ & ⋮ & ⋮ & ⋮ & ⋮ & ⋮ & ⋮ & ⋮ & ⋮\\\\\n",
       "\t 497 & 23 (14-03-1996) & Netherlands & Left-handed & Wikipedia & 495 & 342 (05-08-2019) & Gijs Brouwer    & NA         & NA       & ⋯ & NA & NA & NA & NA & NA & NA & NA & NA & NA & NA\\\\\n",
       "\t 498 & 24 (17-05-1995) & Ukraine     & NA          & Wikipedia & 419 & 419 (20-01-2020) & Vladyslav Orlov & NA         & NA       & ⋯ & NA & NA & NA & NA & NA & NA & NA & NA & NA & NA\\\\\n",
       "\t 499 & 22 (26-03-1997) & Tunisia     & Left-handed & Wikipedia & 451 & 408 (24-12-2018) & Aziz Dougaz     & Two-handed & 61984.00 & ⋯ & NA & NA & NA & NA & NA & NA & NA & NA & NA & NA\\\\\n",
       "\\end{tabular}\n"
      ],
      "text/markdown": [
       "\n",
       "A spec_tbl_df: 500 × 38\n",
       "\n",
       "| ...1 &lt;dbl&gt; | Age &lt;chr&gt; | Country &lt;chr&gt; | Plays &lt;chr&gt; | Wikipedia &lt;chr&gt; | Current Rank &lt;chr&gt; | Best Rank &lt;chr&gt; | Name &lt;chr&gt; | Backhand &lt;chr&gt; | Prize Money &lt;chr&gt; | ⋯ ⋯ | Facebook &lt;chr&gt; | Twitter &lt;chr&gt; | Nicknames &lt;chr&gt; | Grand Slams &lt;dbl&gt; | Davis Cups &lt;dbl&gt; | Web Site &lt;chr&gt; | Team Cups &lt;dbl&gt; | Olympics &lt;dbl&gt; | Weeks at No. 1 &lt;dbl&gt; | Tour Finals &lt;dbl&gt; |\n",
       "|---|---|---|---|---|---|---|---|---|---|---|---|---|---|---|---|---|---|---|---|---|\n",
       "| 0 | 26 (25-04-1993) | Brazil         | Right-handed | Wikipedia | 378 | 363 (04-11-2019) | Oscar Jose Gutierrez | NA         | NA         | ⋯ | NA | NA | NA | NA | NA | NA | NA | NA | NA | NA |\n",
       "| 1 | 18 (22-12-2001) | United Kingdom | Left-handed  | Wikipedia | 326 | 316 (14-10-2019) | Jack Draper          | Two-handed | 59040.00   | ⋯ | NA | NA | NA | NA | NA | NA | NA | NA | NA | NA |\n",
       "| 2 | 32 (03-11-1987) | Slovakia       | Right-handed | Wikipedia | 178 | 44 (14-01-2013)  | Lukas Lacko          | Two-handed | 3261567.00 | ⋯ | NA | NA | NA | NA | NA | NA | NA | NA | NA | NA |\n",
       "| ⋮ | ⋮ | ⋮ | ⋮ | ⋮ | ⋮ | ⋮ | ⋮ | ⋮ | ⋮ | ⋱ | ⋮ | ⋮ | ⋮ | ⋮ | ⋮ | ⋮ | ⋮ | ⋮ | ⋮ | ⋮ |\n",
       "| 497 | 23 (14-03-1996) | Netherlands | Left-handed | Wikipedia | 495 | 342 (05-08-2019) | Gijs Brouwer    | NA         | NA       | ⋯ | NA | NA | NA | NA | NA | NA | NA | NA | NA | NA |\n",
       "| 498 | 24 (17-05-1995) | Ukraine     | NA          | Wikipedia | 419 | 419 (20-01-2020) | Vladyslav Orlov | NA         | NA       | ⋯ | NA | NA | NA | NA | NA | NA | NA | NA | NA | NA |\n",
       "| 499 | 22 (26-03-1997) | Tunisia     | Left-handed | Wikipedia | 451 | 408 (24-12-2018) | Aziz Dougaz     | Two-handed | 61984.00 | ⋯ | NA | NA | NA | NA | NA | NA | NA | NA | NA | NA |\n",
       "\n"
      ],
      "text/plain": [
       "    ...1 Age             Country        Plays        Wikipedia Current Rank\n",
       "1   0    26 (25-04-1993) Brazil         Right-handed Wikipedia 378         \n",
       "2   1    18 (22-12-2001) United Kingdom Left-handed  Wikipedia 326         \n",
       "3   2    32 (03-11-1987) Slovakia       Right-handed Wikipedia 178         \n",
       "⋮   ⋮    ⋮               ⋮              ⋮            ⋮         ⋮           \n",
       "498 497  23 (14-03-1996) Netherlands    Left-handed  Wikipedia 495         \n",
       "499 498  24 (17-05-1995) Ukraine        NA           Wikipedia 419         \n",
       "500 499  22 (26-03-1997) Tunisia        Left-handed  Wikipedia 451         \n",
       "    Best Rank        Name                 Backhand   Prize Money ⋯ Facebook\n",
       "1   363 (04-11-2019) Oscar Jose Gutierrez NA         NA          ⋯ NA      \n",
       "2   316 (14-10-2019) Jack Draper          Two-handed 59040.00    ⋯ NA      \n",
       "3   44 (14-01-2013)  Lukas Lacko          Two-handed 3261567.00  ⋯ NA      \n",
       "⋮   ⋮                ⋮                    ⋮          ⋮           ⋱ ⋮       \n",
       "498 342 (05-08-2019) Gijs Brouwer         NA         NA          ⋯ NA      \n",
       "499 419 (20-01-2020) Vladyslav Orlov      NA         NA          ⋯ NA      \n",
       "500 408 (24-12-2018) Aziz Dougaz          Two-handed 61984.00    ⋯ NA      \n",
       "    Twitter Nicknames Grand Slams Davis Cups Web Site Team Cups Olympics\n",
       "1   NA      NA        NA          NA         NA       NA        NA      \n",
       "2   NA      NA        NA          NA         NA       NA        NA      \n",
       "3   NA      NA        NA          NA         NA       NA        NA      \n",
       "⋮   ⋮       ⋮         ⋮           ⋮          ⋮        ⋮         ⋮       \n",
       "498 NA      NA        NA          NA         NA       NA        NA      \n",
       "499 NA      NA        NA          NA         NA       NA        NA      \n",
       "500 NA      NA        NA          NA         NA       NA        NA      \n",
       "    Weeks at No. 1 Tour Finals\n",
       "1   NA             NA         \n",
       "2   NA             NA         \n",
       "3   NA             NA         \n",
       "⋮   ⋮              ⋮          \n",
       "498 NA             NA         \n",
       "499 NA             NA         \n",
       "500 NA             NA         "
      ]
     },
     "metadata": {},
     "output_type": "display_data"
    }
   ],
   "source": [
    "player_data_initial <- read_csv(\"https://raw.githubusercontent.com/pangus3/DSCI-Group-Project/main/data/player_stats.csv\")\n",
    "player_data_initial"
   ]
  },
  {
   "cell_type": "code",
   "execution_count": 3,
   "id": "79bed16f-2f4e-40f2-a5a9-dd441e54aa9e",
   "metadata": {},
   "outputs": [
    {
     "name": "stderr",
     "output_type": "stream",
     "text": [
      "Warning message in mask$eval_all_mutate(quo):\n",
      "“NAs introduced by coercion”\n",
      "Warning message in mask$eval_all_mutate(quo):\n",
      "“NAs introduced by coercion”\n"
     ]
    },
    {
     "data": {
      "text/html": [
       "<table class=\"dataframe\">\n",
       "<caption>A tibble: 363 × 3</caption>\n",
       "<thead>\n",
       "\t<tr><th scope=col>Seasons</th><th scope=col>current_rank</th><th scope=col>prize_money</th></tr>\n",
       "\t<tr><th scope=col>&lt;dbl&gt;</th><th scope=col>&lt;int&gt;</th><th scope=col>&lt;int&gt;</th></tr>\n",
       "</thead>\n",
       "<tbody>\n",
       "\t<tr><td>14</td><td>178</td><td>3261567</td></tr>\n",
       "\t<tr><td> 2</td><td>236</td><td> 374093</td></tr>\n",
       "\t<tr><td>11</td><td>183</td><td>6091971</td></tr>\n",
       "\t<tr><td>⋮</td><td>⋮</td><td>⋮</td></tr>\n",
       "\t<tr><td> 1</td><td>397</td><td>   40724</td></tr>\n",
       "\t<tr><td>10</td><td>  5</td><td>22132368</td></tr>\n",
       "\t<tr><td> 2</td><td>451</td><td>   61984</td></tr>\n",
       "</tbody>\n",
       "</table>\n"
      ],
      "text/latex": [
       "A tibble: 363 × 3\n",
       "\\begin{tabular}{lll}\n",
       " Seasons & current\\_rank & prize\\_money\\\\\n",
       " <dbl> & <int> & <int>\\\\\n",
       "\\hline\n",
       "\t 14 & 178 & 3261567\\\\\n",
       "\t  2 & 236 &  374093\\\\\n",
       "\t 11 & 183 & 6091971\\\\\n",
       "\t ⋮ & ⋮ & ⋮\\\\\n",
       "\t  1 & 397 &    40724\\\\\n",
       "\t 10 &   5 & 22132368\\\\\n",
       "\t  2 & 451 &    61984\\\\\n",
       "\\end{tabular}\n"
      ],
      "text/markdown": [
       "\n",
       "A tibble: 363 × 3\n",
       "\n",
       "| Seasons &lt;dbl&gt; | current_rank &lt;int&gt; | prize_money &lt;int&gt; |\n",
       "|---|---|---|\n",
       "| 14 | 178 | 3261567 |\n",
       "|  2 | 236 |  374093 |\n",
       "| 11 | 183 | 6091971 |\n",
       "| ⋮ | ⋮ | ⋮ |\n",
       "|  1 | 397 |    40724 |\n",
       "| 10 |   5 | 22132368 |\n",
       "|  2 | 451 |    61984 |\n",
       "\n"
      ],
      "text/plain": [
       "    Seasons current_rank prize_money\n",
       "1   14      178          3261567    \n",
       "2    2      236           374093    \n",
       "3   11      183          6091971    \n",
       "⋮   ⋮       ⋮            ⋮          \n",
       "361  1      397             40724   \n",
       "362 10        5          22132368   \n",
       "363  2      451             61984   "
      ]
     },
     "metadata": {},
     "output_type": "display_data"
    }
   ],
   "source": [
    "colnames(player_data_initial) <- make.names(colnames(player_data_initial), unique=TRUE)\n",
    "player_data_edited <- player_data_initial |>\n",
    "mutate(current_rank = as.integer(Current.Rank)) |>\n",
    "mutate(prize_money = as.integer(Prize.Money)) |>\n",
    "select(Seasons, current_rank, prize_money) |>\n",
    "as_tibble()\n",
    "\n",
    "\n",
    "player_data <- player_data_edited |>\n",
    "filter(!is.na(Seasons),!is.na(current_rank), !is.na(prize_money) )\n",
    "player_data"
   ]
  },
  {
   "cell_type": "code",
   "execution_count": 4,
   "id": "e98309c3-467e-4fcf-8491-7acaa241581a",
   "metadata": {},
   "outputs": [
    {
     "data": {
      "text/html": [
       "<table class=\"dataframe\">\n",
       "<caption>A tibble: 363 × 3</caption>\n",
       "<thead>\n",
       "\t<tr><th scope=col>Seasons</th><th scope=col>current_rank</th><th scope=col>prize_money</th></tr>\n",
       "\t<tr><th scope=col>&lt;dbl&gt;</th><th scope=col>&lt;int&gt;</th><th scope=col>&lt;int&gt;</th></tr>\n",
       "</thead>\n",
       "<tbody>\n",
       "\t<tr><td>14</td><td>178</td><td>3261567</td></tr>\n",
       "\t<tr><td> 2</td><td>236</td><td> 374093</td></tr>\n",
       "\t<tr><td>11</td><td>183</td><td>6091971</td></tr>\n",
       "\t<tr><td>⋮</td><td>⋮</td><td>⋮</td></tr>\n",
       "\t<tr><td> 1</td><td>397</td><td>   40724</td></tr>\n",
       "\t<tr><td>10</td><td>  5</td><td>22132368</td></tr>\n",
       "\t<tr><td> 2</td><td>451</td><td>   61984</td></tr>\n",
       "</tbody>\n",
       "</table>\n"
      ],
      "text/latex": [
       "A tibble: 363 × 3\n",
       "\\begin{tabular}{lll}\n",
       " Seasons & current\\_rank & prize\\_money\\\\\n",
       " <dbl> & <int> & <int>\\\\\n",
       "\\hline\n",
       "\t 14 & 178 & 3261567\\\\\n",
       "\t  2 & 236 &  374093\\\\\n",
       "\t 11 & 183 & 6091971\\\\\n",
       "\t ⋮ & ⋮ & ⋮\\\\\n",
       "\t  1 & 397 &    40724\\\\\n",
       "\t 10 &   5 & 22132368\\\\\n",
       "\t  2 & 451 &    61984\\\\\n",
       "\\end{tabular}\n"
      ],
      "text/markdown": [
       "\n",
       "A tibble: 363 × 3\n",
       "\n",
       "| Seasons &lt;dbl&gt; | current_rank &lt;int&gt; | prize_money &lt;int&gt; |\n",
       "|---|---|---|\n",
       "| 14 | 178 | 3261567 |\n",
       "|  2 | 236 |  374093 |\n",
       "| 11 | 183 | 6091971 |\n",
       "| ⋮ | ⋮ | ⋮ |\n",
       "|  1 | 397 |    40724 |\n",
       "| 10 |   5 | 22132368 |\n",
       "|  2 | 451 |    61984 |\n",
       "\n"
      ],
      "text/plain": [
       "    Seasons current_rank prize_money\n",
       "1   14      178          3261567    \n",
       "2    2      236           374093    \n",
       "3   11      183          6091971    \n",
       "⋮   ⋮       ⋮            ⋮          \n",
       "361  1      397             40724   \n",
       "362 10        5          22132368   \n",
       "363  2      451             61984   "
      ]
     },
     "metadata": {},
     "output_type": "display_data"
    }
   ],
   "source": [
    "player_data\n",
    "#Splitting the data into the training and testing sets, with 75% of the data going to training, and 25% of it going to testing. \n",
    "player_split <- initial_split(player_data, prop = 0.75, strata = current_rank)  \n",
    "player_train<- training(player_split)   \n",
    "player_test<- testing(player_split)\n"
   ]
  },
  {
   "cell_type": "code",
   "execution_count": 5,
   "id": "7c594391-d8d4-4de7-aa39-fc7fb5212b3f",
   "metadata": {},
   "outputs": [
    {
     "data": {
      "text/plain": [
       "K-Nearest Neighbor Model Specification (regression)\n",
       "\n",
       "Main Arguments:\n",
       "  neighbors = tune()\n",
       "  weight_func = rectangular\n",
       "\n",
       "Computational engine: kknn \n"
      ]
     },
     "metadata": {},
     "output_type": "display_data"
    }
   ],
   "source": [
    "#Building a model specification (player_spec) to specify the model and training algorithm. \n",
    "player_spec <- nearest_neighbor(weight_func = \"rectangular\", neighbors = tune()) |> \n",
    "      set_engine(\"kknn\") |>\n",
    "       set_mode(\"regression\") \n",
    "player_spec"
   ]
  },
  {
   "cell_type": "code",
   "execution_count": 6,
   "id": "89122bad-0cd8-4503-b252-f8f44c6a38d3",
   "metadata": {},
   "outputs": [
    {
     "data": {
      "text/plain": [
       "Recipe\n",
       "\n",
       "Inputs:\n",
       "\n",
       "      role #variables\n",
       "   outcome          1\n",
       " predictor          2\n",
       "\n",
       "Operations:\n",
       "\n",
       "Scaling for all_predictors()\n",
       "Centering for all_predictors()"
      ]
     },
     "metadata": {},
     "output_type": "display_data"
    }
   ],
   "source": [
    "#Recipe specifies the predictors/response and preprocesses the data, so it’s scaled. \n",
    "player_recipe <- recipe(current_rank ~ Seasons + prize_money, data = player_train) |>\n",
    "       step_scale(all_predictors()) |>\n",
    "       step_center(all_predictors())\n",
    "player_recipe\n"
   ]
  },
  {
   "cell_type": "code",
   "execution_count": 7,
   "id": "6d18e24d-1962-4e2c-8761-e5924a9299b5",
   "metadata": {},
   "outputs": [],
   "source": [
    "#creating the fold for cross-validation. Cross validation uses a structured splitting so that each observation is used in a validation set only once\n",
    "player_vfold<-  vfold_cv(player_train, v = 5, strata = current_rank)\n",
    "\n",
    "#The workflow combines the model and recipe\n",
    "player_workflow <- workflow() |>\n",
    "       add_recipe(player_recipe) |>\n",
    "   add_model(player_spec)\n"
   ]
  },
  {
   "cell_type": "code",
   "execution_count": 8,
   "id": "c0cd7ebb-541f-43a3-88f4-abd757e5a8db",
   "metadata": {},
   "outputs": [
    {
     "data": {
      "text/html": [
       "<table class=\"dataframe\">\n",
       "<caption>A tibble: 200 × 7</caption>\n",
       "<thead>\n",
       "\t<tr><th scope=col>neighbors</th><th scope=col>.metric</th><th scope=col>.estimator</th><th scope=col>mean</th><th scope=col>n</th><th scope=col>std_err</th><th scope=col>.config</th></tr>\n",
       "\t<tr><th scope=col>&lt;int&gt;</th><th scope=col>&lt;chr&gt;</th><th scope=col>&lt;chr&gt;</th><th scope=col>&lt;dbl&gt;</th><th scope=col>&lt;int&gt;</th><th scope=col>&lt;dbl&gt;</th><th scope=col>&lt;chr&gt;</th></tr>\n",
       "</thead>\n",
       "<tbody>\n",
       "\t<tr><td>1</td><td>rmse</td><td>standard</td><td>131.1011915</td><td>5</td><td>5.88810020</td><td>Preprocessor1_Model001</td></tr>\n",
       "\t<tr><td>1</td><td>rsq </td><td>standard</td><td>  0.2742896</td><td>5</td><td>0.04425432</td><td>Preprocessor1_Model001</td></tr>\n",
       "\t<tr><td>2</td><td>rmse</td><td>standard</td><td>117.9361475</td><td>5</td><td>6.30606540</td><td>Preprocessor1_Model002</td></tr>\n",
       "\t<tr><td>⋮</td><td>⋮</td><td>⋮</td><td>⋮</td><td>⋮</td><td>⋮</td><td>⋮</td></tr>\n",
       "\t<tr><td> 99</td><td>rsq </td><td>standard</td><td>  0.2911660</td><td>5</td><td>0.07927050</td><td>Preprocessor1_Model099</td></tr>\n",
       "\t<tr><td>100</td><td>rmse</td><td>standard</td><td>118.8239900</td><td>5</td><td>5.14002209</td><td>Preprocessor1_Model100</td></tr>\n",
       "\t<tr><td>100</td><td>rsq </td><td>standard</td><td>  0.2900067</td><td>5</td><td>0.07889446</td><td>Preprocessor1_Model100</td></tr>\n",
       "</tbody>\n",
       "</table>\n"
      ],
      "text/latex": [
       "A tibble: 200 × 7\n",
       "\\begin{tabular}{lllllll}\n",
       " neighbors & .metric & .estimator & mean & n & std\\_err & .config\\\\\n",
       " <int> & <chr> & <chr> & <dbl> & <int> & <dbl> & <chr>\\\\\n",
       "\\hline\n",
       "\t 1 & rmse & standard & 131.1011915 & 5 & 5.88810020 & Preprocessor1\\_Model001\\\\\n",
       "\t 1 & rsq  & standard &   0.2742896 & 5 & 0.04425432 & Preprocessor1\\_Model001\\\\\n",
       "\t 2 & rmse & standard & 117.9361475 & 5 & 6.30606540 & Preprocessor1\\_Model002\\\\\n",
       "\t ⋮ & ⋮ & ⋮ & ⋮ & ⋮ & ⋮ & ⋮\\\\\n",
       "\t  99 & rsq  & standard &   0.2911660 & 5 & 0.07927050 & Preprocessor1\\_Model099\\\\\n",
       "\t 100 & rmse & standard & 118.8239900 & 5 & 5.14002209 & Preprocessor1\\_Model100\\\\\n",
       "\t 100 & rsq  & standard &   0.2900067 & 5 & 0.07889446 & Preprocessor1\\_Model100\\\\\n",
       "\\end{tabular}\n"
      ],
      "text/markdown": [
       "\n",
       "A tibble: 200 × 7\n",
       "\n",
       "| neighbors &lt;int&gt; | .metric &lt;chr&gt; | .estimator &lt;chr&gt; | mean &lt;dbl&gt; | n &lt;int&gt; | std_err &lt;dbl&gt; | .config &lt;chr&gt; |\n",
       "|---|---|---|---|---|---|---|\n",
       "| 1 | rmse | standard | 131.1011915 | 5 | 5.88810020 | Preprocessor1_Model001 |\n",
       "| 1 | rsq  | standard |   0.2742896 | 5 | 0.04425432 | Preprocessor1_Model001 |\n",
       "| 2 | rmse | standard | 117.9361475 | 5 | 6.30606540 | Preprocessor1_Model002 |\n",
       "| ⋮ | ⋮ | ⋮ | ⋮ | ⋮ | ⋮ | ⋮ |\n",
       "|  99 | rsq  | standard |   0.2911660 | 5 | 0.07927050 | Preprocessor1_Model099 |\n",
       "| 100 | rmse | standard | 118.8239900 | 5 | 5.14002209 | Preprocessor1_Model100 |\n",
       "| 100 | rsq  | standard |   0.2900067 | 5 | 0.07889446 | Preprocessor1_Model100 |\n",
       "\n"
      ],
      "text/plain": [
       "    neighbors .metric .estimator mean        n std_err   \n",
       "1   1         rmse    standard   131.1011915 5 5.88810020\n",
       "2   1         rsq     standard     0.2742896 5 0.04425432\n",
       "3   2         rmse    standard   117.9361475 5 6.30606540\n",
       "⋮   ⋮         ⋮       ⋮          ⋮           ⋮ ⋮         \n",
       "198  99       rsq     standard     0.2911660 5 0.07927050\n",
       "199 100       rmse    standard   118.8239900 5 5.14002209\n",
       "200 100       rsq     standard     0.2900067 5 0.07889446\n",
       "    .config               \n",
       "1   Preprocessor1_Model001\n",
       "2   Preprocessor1_Model001\n",
       "3   Preprocessor1_Model002\n",
       "⋮   ⋮                     \n",
       "198 Preprocessor1_Model099\n",
       "199 Preprocessor1_Model100\n",
       "200 Preprocessor1_Model100"
      ]
     },
     "metadata": {},
     "output_type": "display_data"
    }
   ],
   "source": [
    "gridvals <- tibble(neighbors= c(1:100))\n",
    "player_results <- player_workflow |>\n",
    "       tune_grid(resamples = player_vfold, grid = gridvals) |>\n",
    "collect_metrics()\n",
    "player_results"
   ]
  },
  {
   "cell_type": "code",
   "execution_count": 9,
   "id": "f967a9df-419b-4f18-bd15-98f7632d0f31",
   "metadata": {},
   "outputs": [
    {
     "data": {
      "text/html": [
       "<table class=\"dataframe\">\n",
       "<caption>A tibble: 1 × 7</caption>\n",
       "<thead>\n",
       "\t<tr><th scope=col>neighbors</th><th scope=col>.metric</th><th scope=col>.estimator</th><th scope=col>mean</th><th scope=col>n</th><th scope=col>std_err</th><th scope=col>.config</th></tr>\n",
       "\t<tr><th scope=col>&lt;int&gt;</th><th scope=col>&lt;chr&gt;</th><th scope=col>&lt;chr&gt;</th><th scope=col>&lt;dbl&gt;</th><th scope=col>&lt;int&gt;</th><th scope=col>&lt;dbl&gt;</th><th scope=col>&lt;chr&gt;</th></tr>\n",
       "</thead>\n",
       "<tbody>\n",
       "\t<tr><td>11</td><td>rmse</td><td>standard</td><td>104.4621</td><td>5</td><td>4.190772</td><td>Preprocessor1_Model011</td></tr>\n",
       "</tbody>\n",
       "</table>\n"
      ],
      "text/latex": [
       "A tibble: 1 × 7\n",
       "\\begin{tabular}{lllllll}\n",
       " neighbors & .metric & .estimator & mean & n & std\\_err & .config\\\\\n",
       " <int> & <chr> & <chr> & <dbl> & <int> & <dbl> & <chr>\\\\\n",
       "\\hline\n",
       "\t 11 & rmse & standard & 104.4621 & 5 & 4.190772 & Preprocessor1\\_Model011\\\\\n",
       "\\end{tabular}\n"
      ],
      "text/markdown": [
       "\n",
       "A tibble: 1 × 7\n",
       "\n",
       "| neighbors &lt;int&gt; | .metric &lt;chr&gt; | .estimator &lt;chr&gt; | mean &lt;dbl&gt; | n &lt;int&gt; | std_err &lt;dbl&gt; | .config &lt;chr&gt; |\n",
       "|---|---|---|---|---|---|---|\n",
       "| 11 | rmse | standard | 104.4621 | 5 | 4.190772 | Preprocessor1_Model011 |\n",
       "\n"
      ],
      "text/plain": [
       "  neighbors .metric .estimator mean     n std_err  .config               \n",
       "1 11        rmse    standard   104.4621 5 4.190772 Preprocessor1_Model011"
      ]
     },
     "metadata": {},
     "output_type": "display_data"
    }
   ],
   "source": [
    "player_min<- player_results |>\n",
    "    filter(.metric == \"rmse\") |>\n",
    "  arrange(mean) |> \n",
    "    slice(1)\n",
    "\n",
    "player_min"
   ]
  },
  {
   "cell_type": "code",
   "execution_count": 10,
   "id": "a9ff2a93-59f1-4445-9edc-a0439156b216",
   "metadata": {},
   "outputs": [
    {
     "data": {
      "text/html": [
       "<table class=\"dataframe\">\n",
       "<caption>A tibble: 3 × 3</caption>\n",
       "<thead>\n",
       "\t<tr><th scope=col>.metric</th><th scope=col>.estimator</th><th scope=col>.estimate</th></tr>\n",
       "\t<tr><th scope=col>&lt;chr&gt;</th><th scope=col>&lt;chr&gt;</th><th scope=col>&lt;dbl&gt;</th></tr>\n",
       "</thead>\n",
       "<tbody>\n",
       "\t<tr><td>rmse</td><td>standard</td><td>98.1188185</td></tr>\n",
       "\t<tr><td>rsq </td><td>standard</td><td> 0.4641113</td></tr>\n",
       "\t<tr><td>mae </td><td>standard</td><td>82.7173913</td></tr>\n",
       "</tbody>\n",
       "</table>\n"
      ],
      "text/latex": [
       "A tibble: 3 × 3\n",
       "\\begin{tabular}{lll}\n",
       " .metric & .estimator & .estimate\\\\\n",
       " <chr> & <chr> & <dbl>\\\\\n",
       "\\hline\n",
       "\t rmse & standard & 98.1188185\\\\\n",
       "\t rsq  & standard &  0.4641113\\\\\n",
       "\t mae  & standard & 82.7173913\\\\\n",
       "\\end{tabular}\n"
      ],
      "text/markdown": [
       "\n",
       "A tibble: 3 × 3\n",
       "\n",
       "| .metric &lt;chr&gt; | .estimator &lt;chr&gt; | .estimate &lt;dbl&gt; |\n",
       "|---|---|---|\n",
       "| rmse | standard | 98.1188185 |\n",
       "| rsq  | standard |  0.4641113 |\n",
       "| mae  | standard | 82.7173913 |\n",
       "\n"
      ],
      "text/plain": [
       "  .metric .estimator .estimate \n",
       "1 rmse    standard   98.1188185\n",
       "2 rsq     standard    0.4641113\n",
       "3 mae     standard   82.7173913"
      ]
     },
     "metadata": {},
     "output_type": "display_data"
    }
   ],
   "source": [
    "k_min <-player_min |>\n",
    "      pull(neighbors)\n",
    "\n",
    "player_best_spec <- nearest_neighbor(weight_func = \"rectangular\", neighbors = k_min) |>\n",
    "         set_engine(\"kknn\") |>\n",
    "          set_mode(\"regression\")\n",
    "\n",
    "player_best_fit <- workflow() |>\n",
    "         add_recipe(player_recipe) |>\n",
    "          add_model(player_best_spec) |>\n",
    "          fit(data = player_train)\n",
    "\n",
    "player_summary <- player_best_fit |>\n",
    "         predict(player_test) |>\n",
    "           bind_cols(player_test) |>\n",
    "           metrics(truth = current_rank, estimate = .pred)\n",
    "\n",
    "\n",
    "player_summary\n",
    "\n",
    "#Explain what this table and values means!!"
   ]
  },
  {
   "cell_type": "code",
   "execution_count": 11,
   "id": "d069414c-6484-46c2-993d-837c265cc020",
   "metadata": {},
   "outputs": [
    {
     "data": {
      "text/html": [
       "<table class=\"dataframe\">\n",
       "<caption>A tibble: 1 × 1</caption>\n",
       "<thead>\n",
       "\t<tr><th scope=col>.pred</th></tr>\n",
       "\t<tr><th scope=col>&lt;dbl&gt;</th></tr>\n",
       "</thead>\n",
       "<tbody>\n",
       "\t<tr><td>282.1818</td></tr>\n",
       "</tbody>\n",
       "</table>\n"
      ],
      "text/latex": [
       "A tibble: 1 × 1\n",
       "\\begin{tabular}{l}\n",
       " .pred\\\\\n",
       " <dbl>\\\\\n",
       "\\hline\n",
       "\t 282.1818\\\\\n",
       "\\end{tabular}\n"
      ],
      "text/markdown": [
       "\n",
       "A tibble: 1 × 1\n",
       "\n",
       "| .pred &lt;dbl&gt; |\n",
       "|---|\n",
       "| 282.1818 |\n",
       "\n"
      ],
      "text/plain": [
       "  .pred   \n",
       "1 282.1818"
      ]
     },
     "metadata": {},
     "output_type": "display_data"
    }
   ],
   "source": [
    "#Predicting a new players rank given their prize money and seasons of tennis played\n",
    "#Jack Black is an up and coming tennis player from planet Mars. He has played tennis in the US for the past 3 seasons and has recieved $145,563 dollars in prize money.\n",
    "#With this information we want to know roughly what Jack Blacks ranking would be so that we can decide if he is someone we want to bet/sponsor.\n",
    "\n",
    "new_player_stats <- tibble(Seasons = 3, \n",
    "                            prize_money=145563)\n",
    "\n",
    "#This recipe is using all the player data this time to create the model recipe instead of just the trianing.. but it is using the same spec that found the best k!\n",
    "player_recipe_all_data <- recipe(current_rank ~ Seasons + prize_money, data = player_data) |>\n",
    "                        step_scale(all_predictors()) |>\n",
    "                        step_center(all_predictors())\n",
    "                     \n",
    "player_fit_all_data <- workflow() |>\n",
    "          add_recipe(player_recipe_all_data) |>\n",
    "          add_model(player_best_spec) |>\n",
    "          fit(data = player_data)\n",
    "\n",
    "new_player_predicted <- predict(player_fit_all_data, new_player_stats)\n",
    "\n",
    "new_player_predicted\n",
    "\n",
    "#He would have a current_rank of 294.6667 I believe!\n",
    "##EXPLAIN WHAT THIS MEANS FOR US!"
   ]
  },
  {
   "cell_type": "code",
   "execution_count": null,
   "id": "1f3b8b4b-c66a-483c-96d1-8fe3d66527c2",
   "metadata": {},
   "outputs": [],
   "source": [
    "player_plot <- player_data |>\n",
    "    ggplot(aes(x = current_rank)) +\n",
    "    geom_histogram(color = \"white\",\n",
    "                  fill = \"blue\",\n",
    "                  binwidth = 1) +\n",
    "    facet_grid(prize_money ~ Seasons) +\n",
    "    labs(x = \"Current Rank\") +\n",
    "    ggtitle(\"Current Rank by Seasons and Prize Money\")\n",
    "           \n",
    "player_plot"
   ]
  },
  {
   "cell_type": "code",
   "execution_count": null,
   "id": "bce0085d-7dd3-4fb1-a5ad-f1693f02de6b",
   "metadata": {},
   "outputs": [],
   "source": [
    "annotate(\"path\", \n",
    "            x=point1[1] + 5*cos(seq(0,2*pi,length.out=100)),\n",
    "            y=point1[2] + 0.1*sin(seq(0,2*pi,length.out=100))) +\n",
    "        annotate(\"text\", x = 183, y =  8.5, label = \"1\")"
   ]
  }
 ],
 "metadata": {
  "kernelspec": {
   "display_name": "R",
   "language": "R",
   "name": "ir"
  },
  "language_info": {
   "codemirror_mode": "r",
   "file_extension": ".r",
   "mimetype": "text/x-r-source",
   "name": "R",
   "pygments_lexer": "r",
   "version": "4.1.3"
  }
 },
 "nbformat": 4,
 "nbformat_minor": 5
}
